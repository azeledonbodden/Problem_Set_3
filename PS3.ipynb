{
 "cells": [
  {
   "cell_type": "code",
   "execution_count": 13,
   "metadata": {},
   "outputs": [
    {
     "name": "stdout",
     "output_type": "stream",
     "text": [
      "6.647 2018-10-10 18:06\n"
     ]
    }
   ],
   "source": [
    "   # Problem_1\n",
    "#This script opens a file, uses a for loop to read through the file line by line \n",
    "#and calculate the maximum water level and the date in which it was observed. \n",
    "\n",
    "def main():\n",
    "    filepath = 'CO-OPS__8729108__wl.csv'\n",
    "    maximum = 0\n",
    "    with open('CO-OPS__8729108__wl.csv','r') as fp:\n",
    "        for line in fp:\n",
    "            line_bits = line.split(\",\")\n",
    "           # print (line_bits)\n",
    "            try:   \n",
    "                next_item = float(line_bits[1])\n",
    "            except:\n",
    "                continue\n",
    "            if next_item > maximum:\n",
    "                maximum = next_item\n",
    "                date = line_bits[0]\n",
    "    print(maximum, date)\n",
    "    \n",
    "main()"
   ]
  },
  {
   "cell_type": "code",
   "execution_count": 14,
   "metadata": {},
   "outputs": [
    {
     "data": {
      "text/plain": [
       "Date Time       2018-10-10 18:06\n",
       " Water Level               6.647\n",
       " Sigma                     0.561\n",
       " O                             1\n",
       " F                             0\n",
       " R                             0\n",
       " L                             0\n",
       " Quality                       p\n",
       "Name: 421, dtype: object"
      ]
     },
     "execution_count": 14,
     "metadata": {},
     "output_type": "execute_result"
    }
   ],
   "source": [
    "    # Problem_2\n",
    "#This script imports pandas and opens a file into the pandas dateframe.\n",
    "#It then calculates the maximum water level with the date and time it was observed.\n",
    "\n",
    "    import pandas as pd\n",
    "\n",
    "df = pd.read_csv('CO-OPS__8729108__wl.csv')\n",
    "\n",
    "df.loc[df[' Water Level'].idxmax()]"
   ]
  },
  {
   "cell_type": "code",
   "execution_count": 15,
   "metadata": {},
   "outputs": [
    {
     "name": "stdout",
     "output_type": "stream",
     "text": [
      "6.647 2018-10-10 18:06\n",
      "0.2990000000000004 2018-10-10 18:36\n"
     ]
    }
   ],
   "source": [
    "    # Problem_3\n",
    "#This script opens a file, calculates the fastest rise in water level per 6-minute period between measurements \n",
    "#and provides the time and date in which it was observed as well as the change in water level during that period.\n",
    "\n",
    "    maximum = 0\n",
    "    previous_line = 0\n",
    "    maxdiff = 0\n",
    "    with open('CO-OPS__8729108__wl.csv','r') as fp:\n",
    "        for line in fp:\n",
    "            line_bits = line.split(\",\")\n",
    "           # print (line_bits)\n",
    "            try:   \n",
    "                next_item = float(line_bits[1])\n",
    "                \n",
    "            except:\n",
    "                continue\n",
    "            if next_item > maximum:\n",
    "                maximum = next_item\n",
    "                date = line_bits[0]\n",
    "            \n",
    "            diff = previous_line - next_item\n",
    "            \n",
    "            if diff > maxdiff:\n",
    "                maxdiff = diff\n",
    "                datemax = line_bits[0]\n",
    "            previous_line = next_item\n",
    "                \n",
    "    print(maximum, date)\n",
    "    print(maxdiff, datemax)"
   ]
  }
 ],
 "metadata": {
  "kernelspec": {
   "display_name": "Python 3",
   "language": "python",
   "name": "python3"
  },
  "language_info": {
   "codemirror_mode": {
    "name": "ipython",
    "version": 3
   },
   "file_extension": ".py",
   "mimetype": "text/x-python",
   "name": "python",
   "nbconvert_exporter": "python",
   "pygments_lexer": "ipython3",
   "version": "3.6.3"
  }
 },
 "nbformat": 4,
 "nbformat_minor": 2
}
