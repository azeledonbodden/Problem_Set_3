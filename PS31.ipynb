{
 "cells": [
  {
   "cell_type": "code",
   "execution_count": 13,
   "metadata": {},
   "outputs": [
    {
     "name": "stdout",
     "output_type": "stream",
     "text": [
      "6.647 2018-10-10 18:06\n"
     ]
    }
   ],
   "source": [
    "   # Problem_1\n",
    "#This script opens a file, uses a for loop to read through the file line by line \n",
    "#and calculate the maximum water level and the date in which it was observed. \n",
    "\n",
    "def main():\n",
    "    filepath = 'CO-OPS__8729108__wl.csv'\n",
    "    maximum = 0\n",
    "    with open('CO-OPS__8729108__wl.csv','r') as fp:\n",
    "        for line in fp:\n",
    "            line_bits = line.split(\",\")\n",
    "           # print (line_bits)\n",
    "            try:   \n",
    "                next_item = float(line_bits[1])\n",
    "            except:\n",
    "                continue\n",
    "            if next_item > maximum:\n",
    "                maximum = next_item\n",
    "                date = line_bits[0]\n",
    "    print(maximum, date)\n",
    "    \n",
    "main()"
   ]
  }
 ],
 "metadata": {
  "kernelspec": {
   "display_name": "Python 3",
   "language": "python",
   "name": "python3"
  },
  "language_info": {
   "codemirror_mode": {
    "name": "ipython",
    "version": 3
   },
   "file_extension": ".py",
   "mimetype": "text/x-python",
   "name": "python",
   "nbconvert_exporter": "python",
   "pygments_lexer": "ipython3",
   "version": "3.6.3"
  }
 },
 "nbformat": 4,
 "nbformat_minor": 2
}
