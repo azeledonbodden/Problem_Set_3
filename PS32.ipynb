{
 "cells": [
  {
   "cell_type": "code",
   "execution_count": 2,
   "metadata": {},
   "outputs": [
    {
     "data": {
      "text/plain": [
       "Date Time       2018-10-10 18:06\n",
       " Water Level               6.647\n",
       " Sigma                     0.561\n",
       " O                             1\n",
       " F                             0\n",
       " R                             0\n",
       " L                             0\n",
       " Quality                       p\n",
       "Name: 421, dtype: object"
      ]
     },
     "execution_count": 2,
     "metadata": {},
     "output_type": "execute_result"
    }
   ],
   "source": [
    "    # Problem_2\n",
    "#This script imports pandas and opens a file into the pandas dateframe.\n",
    "#It then calculates the maximum water level with the date and time it was observed.\n",
    "\n",
    "    import pandas as pd\n",
    "\n",
    "df = pd.read_csv('CO-OPS__8729108__wl.csv')\n",
    "\n",
    "df.loc[df[' Water Level'].idxmax()]"
   ]
  }
 ],
 "metadata": {
  "kernelspec": {
   "display_name": "Python 3",
   "language": "python",
   "name": "python3"
  },
  "language_info": {
   "codemirror_mode": {
    "name": "ipython",
    "version": 3
   },
   "file_extension": ".py",
   "mimetype": "text/x-python",
   "name": "python",
   "nbconvert_exporter": "python",
   "pygments_lexer": "ipython3",
   "version": "3.6.3"
  }
 },
 "nbformat": 4,
 "nbformat_minor": 2
}
