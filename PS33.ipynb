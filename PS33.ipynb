{
 "cells": [
  {
   "cell_type": "code",
   "execution_count": 1,
   "metadata": {},
   "outputs": [
    {
     "name": "stdout",
     "output_type": "stream",
     "text": [
      "6.647 2018-10-10 18:06\n",
      "0.2990000000000004 2018-10-10 18:36\n"
     ]
    }
   ],
   "source": [
    "    # Problem_3\n",
    "#This script opens a file, calculates the fastest rise in water level per 6-minute period between measurements \n",
    "#and provides the time and date in which it was observed as well as the change in water level during that period.\n",
    "\n",
    "    maximum = 0\n",
    "    previous_line = 0\n",
    "    maxdiff = 0\n",
    "    with open('CO-OPS__8729108__wl.csv','r') as fp:\n",
    "        for line in fp:\n",
    "            line_bits = line.split(\",\")\n",
    "           # print (line_bits)\n",
    "            try:   \n",
    "                next_item = float(line_bits[1])\n",
    "                \n",
    "            except:\n",
    "                continue\n",
    "            if next_item > maximum:\n",
    "                maximum = next_item\n",
    "                date = line_bits[0]\n",
    "            \n",
    "            diff = previous_line - next_item\n",
    "            \n",
    "            if diff > maxdiff:\n",
    "                maxdiff = diff\n",
    "                datemax = line_bits[0]\n",
    "            previous_line = next_item\n",
    "                \n",
    "    print(maximum, date)\n",
    "    print(maxdiff, datemax)"
   ]
  }
 ],
 "metadata": {
  "kernelspec": {
   "display_name": "Python 3",
   "language": "python",
   "name": "python3"
  },
  "language_info": {
   "codemirror_mode": {
    "name": "ipython",
    "version": 3
   },
   "file_extension": ".py",
   "mimetype": "text/x-python",
   "name": "python",
   "nbconvert_exporter": "python",
   "pygments_lexer": "ipython3",
   "version": "3.6.3"
  }
 },
 "nbformat": 4,
 "nbformat_minor": 2
}
